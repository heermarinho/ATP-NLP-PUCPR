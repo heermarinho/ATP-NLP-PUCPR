{
  "nbformat": 4,
  "nbformat_minor": 0,
  "metadata": {
    "colab": {
      "name": " [ONLINE] ATIVIDADE SOMATIVA 1.ipynb",
      "provenance": [],
      "collapsed_sections": []
    },
    "kernelspec": {
      "name": "python3",
      "display_name": "Python 3"
    }
  },
  "cells": [
    {
      "cell_type": "markdown",
      "metadata": {
        "id": "IKDrudHt01Zi"
      },
      "source": [
        "# ATIVIDADE SOMATIVA 1\n",
        "## Processamento de Linguagem Natural\n",
        "\n",
        "----\n",
        "\n",
        "**Alunos**: Juan Manoel Marinho Nascimento & Gustavo da Silva Rossi\n",
        "\n",
        "\n",
        "----\n",
        "\n",
        "Resolva os problemas a seguir em equipes de até duas pessoas. A atividade permite consulta ao nosso material e documentação online.\n",
        "\n",
        "Ao professor se reserva o direito de realizar um teste de autoria de quaisquer uma das atividades a seguir, podendo atribuir nota ZERO ao aluno que não corresponder ao teste exigido.\n",
        "\n",
        "> **ATENÇÃO**: Não serão aceitas entregas através de links compartilhados do Google Colab. Sua equipe deve entregar um arquivo .ipynb diretamente no AVA (No menu ARQUIVO > FAZER DOWNLOAD você pode criar este arquivo). \n",
        "\n",
        "\n",
        "\n"
      ]
    },
    {
      "cell_type": "markdown",
      "metadata": {
        "id": "BFoZxGZP3R7b"
      },
      "source": [
        "Considere o corpus a seguir:"
      ]
    },
    {
      "cell_type": "code",
      "metadata": {
        "id": "ifPyuILo3av0"
      },
      "source": [
        "# A seguir um corpus composto por resumos dos primeiros 12 capítulos do livro \"Senhor dos Anéis\"\n",
        "# Traduzidos por Luciano Soares e Reinaldo Imrahil - disponível em: https://www.valinor.com.br/82\n",
        "corpus = [\n",
        "          \"Capítulo 1: Uma festa muito esperada\\nSessenta anos passaram desde que Bilbo Bolseiro, o herói de O Hobbit, tinha voltado de sua jornada. Ele é conhecido por muitos, tanto pela sua riqueza legendária como pelo fato de que a idade não parece afetá-lo. Ele anuncia uma grande celebração em honra do 111o aniversário dele e o 33o aniversário do seu sobrinho Frodo, que ele tinha adotado como herdeiro alguns anos atrás e trouxera para viver no Bolsão. A festa estava esplêndida, e um grande número de hobbits foi convidado. Mas Bilbo sentia-se estranho ultimamente, e decidiu que precisava de umas férias e deixaria o Condado; assim, depois de fazer um discurso depois do jantar, na frente dos 144 amigos mais íntimos dele e de Frodo, e também de seus parentes, ele coloca o anel mágico e desaparece, causando grande surpresa. Ele fala mais uma vez com Gandalf antes de partir, e quase muda a sua intenção original de deixar o anel com Frodo; mas o mago o convence a manter a idéia, e Bilbo parte, muito aliviado e mais feliz do que nunca. Gandalf adverte Frodo para não usar o anel. No dia seguinte Frodo está ocupado, pois Bilbo tinha deixado presentes de despedida para muitos hobbits, e agora uma multidão de pessoas se encontra no Bolsão, muitos deles cavando ao redor e procurando os tesouros imaginários de Bilbo. Gandalf parte, e não volta por muito tempo.\",\n",
        "          \"Capítulo 2: A Sombra do Passado\\nGandalf visita Frodo só algumas vezes pelos anos que seguem. Frodo se acostuma a ser o mestre do Bolsão, e faz amizade com alguns dos hobbits mais jovem [por exemplo com Peregrin Tûk e Merry Brandebuque] enquanto a maioria o considera esquisito, como Bilbo. Rumores de eventos estranhos fora do Condado surgem, como o da ascensão do Poder Escuro na Terra de Mordor, embora a maioria dos hobbits não acreditasse nisso. No qüinquagésimo ano da vida de Frodo, Gandalf o visita novamente e eles têm uma conversa longa sobre o anel que Frodo tinha herdado de Bilbo. Gandalf explica a Frodo a natureza e a história do anel, que é de fato o maior dos Anéis de Poder e foi feito há muito tempo por Sauron, o Senhor do Escuro de Mordor. Sauron o está procurando agora avidamente. Achando o anel o seu poder cresceria imensamente. O anel deveria ser destruído para que Sauron perdesse seu poder, mas só poderia ser destruído em Orodruin, a Montanha da Perdição em Mordor. Parece que Sauron já tinha ouvido falar de Bilbo e do Condado através de Gollum; assim, o Condado provavelmente não é mais um lugar seguro para Frodo. Ele decide partir, acompanhado por Sam Gamgi, o seu jovem jardineiro, que [ao contrário da maioria dos hobbits] acredita nas antigas histórias e adoraria ver os Elfos\",\n",
        "          \"Capítulo 3: Três não é demais\\nFrodo vende o Bolsão aos Sacola-Bolseiros e compra uma casa na Terra dos Buques, a leste do Condado, onde ele tinha passado sua infância. No seu qüinquagésimo aniversário, ele deixa o Bolsão e parte com seu amigo Pippin [Peregrin Tûk] e Sam Gamgi; Gandalf o deixou por algum tempo para procurar notícias do que acontecia na Terra-média, e ainda não voltou, o que preocupa muito Frodo. No dia seguinte, os três hobbits notam que estão sendo seguidos pelos misteriosos Cavaleiros Negros. Não sabem exatamente quem eles são, e Frodo, cuidadoso, decide não deixar que os Cavaleiros os vejam. Eles conhecem, durante a noite, um grupo vagante de Altos-elfos conduzido por Gildor Inglorion; Frodo fala por muito tempo com Gildor, e o elfo o aconselha a tentar alcançar Valfenda apesar da ausência de Gandalf, e conta-lhe que os Cavaleiros Negros são os perigosos Servos do Inimigo.\",\n",
        "          \"Capítulo 4: Um atalho para cogumelos\\nNo dia seguinte, Frodo decide pegar um atalho para o rio Brandevin, onde Merry deveria encontrá-los naquele dia; queriam chegar lá mais cedo, e evitar serem vistos novamente pelos Cavaleiros Negros. De fato, eles percebem que um dos Cavaleiros está na estrada e decidem sair dela. Depois de uma passagem longa e desagradável pelos bosques, eles alcançam a propriedade de Fazendeiro Magote, que é conhecido por soltar seus cachorros em qualquer invasor que venha a colher os seus cogumelos [como o próprio Frodo tinha experimentado na sua mocidade]. Contudo, ele é bastante amigável, especialmente por conhecer bastante Pippin; ele conta a Frodo e seus amigos que pouco tempo antes um cavaleiro negro estranho e amedrontador perguntara-lhe por um Bolseiro . Para ajudar Frodo a alcançar a balsa do Brandevin da maneira mais segura e rápida possível, Magote leva os três hobbits com sua carroça , e eles acham Merry esperando-os ansiosamente.\",\n",
        "          \"Capítulo 5: Conspiração Desmascarada\\nConforme eles cruzam o Rio, notam uma figura negra parada, e cada vez mais próxima. Eles vão para a casa nova de Frodo em Cricôncavo, e falam sobre as suas aventuras na viagem. Frodo pretende falar finalmente para os amigos que vai partir o mais cedo possível quando, para o seu assombro, eles dizem que já sabem sobre o Anel, e sobre o propósito de sua viagem, e que pretendem acompanhá-lo e ajudá-lo. Depois do choque inicial, Frodo aceita a ajuda deles alegremente, e eles decidem partir no dia seguinte, bem cedo, pela Floresta Velha, um lugar conhecido como esquisito e perigoso, para evitar as estradas que provavelmente serão vigiadas pelos Cavaleiros.\",\n",
        "          \"Capítulo 6: A Floresta Velha\\nOs hobbits entram na Floresta Velha e logo começam a sentir sua estranheza, como se as árvores estivessem vigiando-os e os odiassem. Eles chegam à Clareira onde os hobbits queimaram uma grande quantidade de árvores há muito tempo atrás. De lá, eles seguem um caminho que os conduz a uma colina que sobe fora da Floresta, e de lá, como eles eventualmente notam, para o Rio Withywindle, a parte central e mais estranha da floresta. Eles querem evitar isso e deixar o caminho, mas acham o terreno sempre mais difícil na direção em que gostariam de ir. Eles caem em um barranco que é muito íngreme para ser escalado novamente e, seguindo-o, chegam ao Withywindle e acham um caminho que corre ao longo dele. Este caminho os traz a um velho salgueiro, perto do qual começam a sentir-se sonolentos de repente. Frodo, Merry e Pippin dormem, e a árvore lança Frodo na água e captura Merry e Pippin debaixo de suas raízes. Sam e Frodo não podem salvá-los, e correm ao longo do caminho, enquanto pedem por ajuda, desesperados. Eles encontram Tom Bombadil, um homem estranho que canta canções absurdas. Tom canta a melodia certa, e o salgueiro liberta Merry e Pippin; então Tom convida os hobits para irem à casa dele, onde vive com Fruta DOuro.\",\n",
        "          \"Capítulo 7: Na Casa de Tom Bombadil\\nEles comem um jantar magnífico e então vão dormir, e cada um deles tem sonhos diferentes e estranhos. No dia os hobbits falam com Tom Bombadil durante o dia inteiro. Tom lhes fala muito sobre a Floresta, os tipos de árvores e animais, o Velho Homem-Salgueiro, e a história antiga da Terra-média, embora de maneira enigmática. Para a surpresa deles, descobrem que o Anel não tem nenhum poder sobre Bombadil. Ele lhes dá conselhos no dia seguinte, e lhes ensina uma rima parra chamá-lo se eles precisarem da ajuda dele.\",\n",
        "          \"Capítulo 8: Névoa nas Colinas dos Túmulos\\nNo dia seguinte, os hobbits deixam a casa de Tom, pretendendo cruzar os Túmulos. Eles fazem um progresso bom pela manhã, e ao redor de meio-dia param para descansar. Estranhamente há um grande pedra fria que se levanta no topo plano de uma colina. Eles adormecem e são despertados por um pôr-do-sol cercado pela névoa. Eles imediatamente se encaminham na direção que eles acreditam ser a mais direta para a Estrada; algum tempo depois Frodo, que estava na frente, passa entre duas pedras paradas e nota que os outros se foram. Ele começa a gritar por ajuda, e é capturado por uma Criatura Tumular. Ele desperta novamente dentro de um túmulo, nota que os outros estão inconscientes perto dele e que uma mão está rastejando na direção deles. Frodo canta a rima que Tom Bombadil tinha lhes ensinado um dia antes, e realmente Tom vem muito rápido, e a luz do dia destrói a Criatura Tumular. Tom desperta os outros três hobits, e dá a cada um deles uma espada, tirada dos tesouros que estavam dentro do túmulo. Ele também traz os pôneis deles que fugiram à noite, e os acompanha durante algum tempo, até as fronteiras das terras dele. Os hobbits partem, e chegam à aldeia de Bri pela noite.\",\n",
        "          \"Capítulo 9: No Pônei Saltitante\\nO hobbits entram no Pônei Saltitante, uma hospedaria grande em Bri. Um grupo diversificado de hóspedes já esta reunido lá: hobbits locais e homens, anões em viagem, homens estranhos do Sul, e um Guardião misterioso conhecido como Passolargo. Depois da ceia, Frodo, Sam e Pippin decidem unir-se aos hóspedes; Pippin chama a atenção contando uma história sobre o Prefeito do Condado e, empolgado, começa a contar sobre a festa de despedida de Bilbo. Frodo não quer mencionar o desaparecimento de Bilbo, e para interromper Pippin salta sobre uma mesa e começa a cantar e dançar. Ele salta e cai da mesa, e enquanto cai o Anel desliza para o dedo dele, e ele desaparece. Isto causa muita ansiedade, e apesar das explicações posteriores a maioria dos hóspedes deixa o aposento. Passolargo parece saber o real nome de Frodo, e a verdadeira causa do seu desaparecimento, e lhe pede que tenham uma conversa depois. Carrapicho, o estalajadeiro, também se lembra de algo e pede para ter uma conversa particular com Frodo.\",\n",
        "          \"Capítulo 10: Passolargo\\nPassolargo vai falar com Frodo, Sam e Pippin. Ele se oferece para ser o guia deles, e parece já saber muito de Frodo; porém, por causa da sua aparência, os hobbits não confiam nele. Então Carrapicho chega e explica que Gandalf tinha deixado uma carta para um certo Frodo Bolseiro, que Carrapicho esquecera de enviar ao Condado há vários meses atrás. Frodo e seus companheiros batem com a descrição que Gandalf dera a Carrapicho, e este dá a carta a Frodo. Entre outras coisas, essa carta contém um conselho de Gandalf para aceitar a ajuda de um amigo seu, um homem chamado Passolargo [com o verdadeiro nome Aragorn], se eles chegassem a conhecê-lo. Assim, Frodo decide aceitar a ajuda dele como um guia para Valfenda. Merry, que saiu para pegar um ar fresco antes, agora volta e conta que viu os Cavaleiros Negros, e parece que eles têm espiões em Bri. Eles decidem não ir para os quartos designados a eles, e dormem no quarto de hóspedes, depois de trancarem as janelas e a porta.\",\n",
        "          \"Capítulo 11: Uma Faca no Escuro\\nNaquela mesma noite, os Cavaleiros Negros arrombam a casa de Frodo em Cricôncavo, descobrem que Frodo não esta lá, e cavalgam para Bri com grande pressa. Eles arrombam a hospedaria, ou mais especificamente o quarto onde os hóspedes hobbits normalmente dormem. Os hobbits não são descobertos, mas todos os cavalos e pôneis da hospedaria fugiram com medo. No dia seguinte eles compram um pônei e mantimentos [muito mais do que eles poderiam carregar em suas costas]; eles vão em direção a Valfenda, e Passolargo os conduz pela floresta para uma colina chamada Topo do Vento, que oferece uma visão de cima de uma área circunvizinha bem grande. Parece que Gandalf tinha estado lá três dias antes deles. Naquela noite eles são atacados por cinco dos Cavaleiros em uma depressão debaixo do Topo do Vento; Frodo não consegue resistir ao desejo de colocar o Anel, e imediatamente depois de fazer isso percebe que ele pode ver os Cavaleiros muito claramente apesar da escuridão. O capitão dos Cavaleiros ataca Frodo, que o golpeia nos pés mas acaba ferido e perde a consciência .\",\n",
        "          \"Capítulo 12: Fuga para o Vau\\nPassolargo faz o melhor possível para curar Frodo, mas este só poderia receber o tratamento em Valfenda, que eles deveriam alcançar o mais cedo possível. Eles cruzam o Rio Fontegris e, evitando a estrada, caminham pelos ermos e acabam alcançando a região dos trolls onde Bilbo tivera a sua primeira aventura tantos anos atrás. Eles têm que cruzar uma linha de colinas para se pôr mais perto novamente da Estrada, já que a única esperança deles de alcançar Valfenda a tempo é seguir a Estrada que cruza o rio Ruidoságua, ou Bruinen, no vau de Bruinen. Na Estrada eles conhecem Glorfindel, um Senhor Élfico que foi enviado de Valfenda para achá-los e ajudá-los. Eles se aproximam do Vau de Bruinen e são emboscados pelos Cavaleiros Negros. Frodo consegue escapar e cruzar o rio no cavalo de Glorfindel. Então uma grande inundação vem rio abaixo e leva os Cavaleiros.\"\n",
        "]"
      ],
      "execution_count": 1,
      "outputs": []
    },
    {
      "cell_type": "code",
      "source": [
        ""
      ],
      "metadata": {
        "id": "QdNnaCuOI6Id"
      },
      "execution_count": 1,
      "outputs": []
    },
    {
      "cell_type": "markdown",
      "metadata": {
        "id": "9Z96xLcD1pc6"
      },
      "source": [
        "#### 1) Utilize `Expressões Regulares` para remover de cada um dos textos do corpus o cabeçalho dos capítulos (e.g., \"*Capítulo 1:*\", \"*Capítulo 2*:\", \"*Capítulo 3*:\")"
      ]
    },
    {
      "cell_type": "code",
      "metadata": {
        "id": "jogXuJPg3POU"
      },
      "source": [
        "## usar regex como import re e posição inicial de Captulo mais decimal e \n",
        "## depois splitar a posição dos dados em 2 partes \n",
        "##"
      ],
      "execution_count": 2,
      "outputs": []
    },
    {
      "cell_type": "code",
      "source": [
        "import re "
      ],
      "metadata": {
        "id": "lpdJ3e_Yiv0v"
      },
      "execution_count": 3,
      "outputs": []
    },
    {
      "cell_type": "code",
      "source": [
        "corpus_dict = {\n",
        "    re.split(r\":\",corpu)[0]:re.split(r\":\",corpu)[1].strip() for corpu in corpus\n",
        "  }"
      ],
      "metadata": {
        "id": "ERmE-TOyixgQ"
      },
      "execution_count": 4,
      "outputs": []
    },
    {
      "cell_type": "code",
      "source": [
        ""
      ],
      "metadata": {
        "id": "dSxJf5SXtrT1"
      },
      "execution_count": 4,
      "outputs": []
    },
    {
      "cell_type": "code",
      "source": [
        "corpus_dict"
      ],
      "metadata": {
        "colab": {
          "base_uri": "https://localhost:8080/"
        },
        "id": "XKyWhHSyluIr",
        "outputId": "ba1ebef4-4f8e-419e-d317-1fe92e192d53"
      },
      "execution_count": 18,
      "outputs": [
        {
          "output_type": "execute_result",
          "data": {
            "text/plain": [
              "{'Capítulo 1': 'Uma festa muito esperada\\nSessenta anos passaram desde que Bilbo Bolseiro, o herói de O Hobbit, tinha voltado de sua jornada. Ele é conhecido por muitos, tanto pela sua riqueza legendária como pelo fato de que a idade não parece afetá-lo. Ele anuncia uma grande celebração em honra do 111o aniversário dele e o 33o aniversário do seu sobrinho Frodo, que ele tinha adotado como herdeiro alguns anos atrás e trouxera para viver no Bolsão. A festa estava esplêndida, e um grande número de hobbits foi convidado. Mas Bilbo sentia-se estranho ultimamente, e decidiu que precisava de umas férias e deixaria o Condado; assim, depois de fazer um discurso depois do jantar, na frente dos 144 amigos mais íntimos dele e de Frodo, e também de seus parentes, ele coloca o anel mágico e desaparece, causando grande surpresa. Ele fala mais uma vez com Gandalf antes de partir, e quase muda a sua intenção original de deixar o anel com Frodo; mas o mago o convence a manter a idéia, e Bilbo parte, muito aliviado e mais feliz do que nunca. Gandalf adverte Frodo para não usar o anel. No dia seguinte Frodo está ocupado, pois Bilbo tinha deixado presentes de despedida para muitos hobbits, e agora uma multidão de pessoas se encontra no Bolsão, muitos deles cavando ao redor e procurando os tesouros imaginários de Bilbo. Gandalf parte, e não volta por muito tempo.',\n",
              " 'Capítulo 10': 'Passolargo\\nPassolargo vai falar com Frodo, Sam e Pippin. Ele se oferece para ser o guia deles, e parece já saber muito de Frodo; porém, por causa da sua aparência, os hobbits não confiam nele. Então Carrapicho chega e explica que Gandalf tinha deixado uma carta para um certo Frodo Bolseiro, que Carrapicho esquecera de enviar ao Condado há vários meses atrás. Frodo e seus companheiros batem com a descrição que Gandalf dera a Carrapicho, e este dá a carta a Frodo. Entre outras coisas, essa carta contém um conselho de Gandalf para aceitar a ajuda de um amigo seu, um homem chamado Passolargo [com o verdadeiro nome Aragorn], se eles chegassem a conhecê-lo. Assim, Frodo decide aceitar a ajuda dele como um guia para Valfenda. Merry, que saiu para pegar um ar fresco antes, agora volta e conta que viu os Cavaleiros Negros, e parece que eles têm espiões em Bri. Eles decidem não ir para os quartos designados a eles, e dormem no quarto de hóspedes, depois de trancarem as janelas e a porta.',\n",
              " 'Capítulo 11': 'Uma Faca no Escuro\\nNaquela mesma noite, os Cavaleiros Negros arrombam a casa de Frodo em Cricôncavo, descobrem que Frodo não esta lá, e cavalgam para Bri com grande pressa. Eles arrombam a hospedaria, ou mais especificamente o quarto onde os hóspedes hobbits normalmente dormem. Os hobbits não são descobertos, mas todos os cavalos e pôneis da hospedaria fugiram com medo. No dia seguinte eles compram um pônei e mantimentos [muito mais do que eles poderiam carregar em suas costas]; eles vão em direção a Valfenda, e Passolargo os conduz pela floresta para uma colina chamada Topo do Vento, que oferece uma visão de cima de uma área circunvizinha bem grande. Parece que Gandalf tinha estado lá três dias antes deles. Naquela noite eles são atacados por cinco dos Cavaleiros em uma depressão debaixo do Topo do Vento; Frodo não consegue resistir ao desejo de colocar o Anel, e imediatamente depois de fazer isso percebe que ele pode ver os Cavaleiros muito claramente apesar da escuridão. O capitão dos Cavaleiros ataca Frodo, que o golpeia nos pés mas acaba ferido e perde a consciência .',\n",
              " 'Capítulo 12': 'Fuga para o Vau\\nPassolargo faz o melhor possível para curar Frodo, mas este só poderia receber o tratamento em Valfenda, que eles deveriam alcançar o mais cedo possível. Eles cruzam o Rio Fontegris e, evitando a estrada, caminham pelos ermos e acabam alcançando a região dos trolls onde Bilbo tivera a sua primeira aventura tantos anos atrás. Eles têm que cruzar uma linha de colinas para se pôr mais perto novamente da Estrada, já que a única esperança deles de alcançar Valfenda a tempo é seguir a Estrada que cruza o rio Ruidoságua, ou Bruinen, no vau de Bruinen. Na Estrada eles conhecem Glorfindel, um Senhor Élfico que foi enviado de Valfenda para achá-los e ajudá-los. Eles se aproximam do Vau de Bruinen e são emboscados pelos Cavaleiros Negros. Frodo consegue escapar e cruzar o rio no cavalo de Glorfindel. Então uma grande inundação vem rio abaixo e leva os Cavaleiros.',\n",
              " 'Capítulo 2': 'A Sombra do Passado\\nGandalf visita Frodo só algumas vezes pelos anos que seguem. Frodo se acostuma a ser o mestre do Bolsão, e faz amizade com alguns dos hobbits mais jovem [por exemplo com Peregrin Tûk e Merry Brandebuque] enquanto a maioria o considera esquisito, como Bilbo. Rumores de eventos estranhos fora do Condado surgem, como o da ascensão do Poder Escuro na Terra de Mordor, embora a maioria dos hobbits não acreditasse nisso. No qüinquagésimo ano da vida de Frodo, Gandalf o visita novamente e eles têm uma conversa longa sobre o anel que Frodo tinha herdado de Bilbo. Gandalf explica a Frodo a natureza e a história do anel, que é de fato o maior dos Anéis de Poder e foi feito há muito tempo por Sauron, o Senhor do Escuro de Mordor. Sauron o está procurando agora avidamente. Achando o anel o seu poder cresceria imensamente. O anel deveria ser destruído para que Sauron perdesse seu poder, mas só poderia ser destruído em Orodruin, a Montanha da Perdição em Mordor. Parece que Sauron já tinha ouvido falar de Bilbo e do Condado através de Gollum; assim, o Condado provavelmente não é mais um lugar seguro para Frodo. Ele decide partir, acompanhado por Sam Gamgi, o seu jovem jardineiro, que [ao contrário da maioria dos hobbits] acredita nas antigas histórias e adoraria ver os Elfos',\n",
              " 'Capítulo 3': 'Três não é demais\\nFrodo vende o Bolsão aos Sacola-Bolseiros e compra uma casa na Terra dos Buques, a leste do Condado, onde ele tinha passado sua infância. No seu qüinquagésimo aniversário, ele deixa o Bolsão e parte com seu amigo Pippin [Peregrin Tûk] e Sam Gamgi; Gandalf o deixou por algum tempo para procurar notícias do que acontecia na Terra-média, e ainda não voltou, o que preocupa muito Frodo. No dia seguinte, os três hobbits notam que estão sendo seguidos pelos misteriosos Cavaleiros Negros. Não sabem exatamente quem eles são, e Frodo, cuidadoso, decide não deixar que os Cavaleiros os vejam. Eles conhecem, durante a noite, um grupo vagante de Altos-elfos conduzido por Gildor Inglorion; Frodo fala por muito tempo com Gildor, e o elfo o aconselha a tentar alcançar Valfenda apesar da ausência de Gandalf, e conta-lhe que os Cavaleiros Negros são os perigosos Servos do Inimigo.',\n",
              " 'Capítulo 4': 'Um atalho para cogumelos\\nNo dia seguinte, Frodo decide pegar um atalho para o rio Brandevin, onde Merry deveria encontrá-los naquele dia; queriam chegar lá mais cedo, e evitar serem vistos novamente pelos Cavaleiros Negros. De fato, eles percebem que um dos Cavaleiros está na estrada e decidem sair dela. Depois de uma passagem longa e desagradável pelos bosques, eles alcançam a propriedade de Fazendeiro Magote, que é conhecido por soltar seus cachorros em qualquer invasor que venha a colher os seus cogumelos [como o próprio Frodo tinha experimentado na sua mocidade]. Contudo, ele é bastante amigável, especialmente por conhecer bastante Pippin; ele conta a Frodo e seus amigos que pouco tempo antes um cavaleiro negro estranho e amedrontador perguntara-lhe por um Bolseiro . Para ajudar Frodo a alcançar a balsa do Brandevin da maneira mais segura e rápida possível, Magote leva os três hobbits com sua carroça , e eles acham Merry esperando-os ansiosamente.',\n",
              " 'Capítulo 5': 'Conspiração Desmascarada\\nConforme eles cruzam o Rio, notam uma figura negra parada, e cada vez mais próxima. Eles vão para a casa nova de Frodo em Cricôncavo, e falam sobre as suas aventuras na viagem. Frodo pretende falar finalmente para os amigos que vai partir o mais cedo possível quando, para o seu assombro, eles dizem que já sabem sobre o Anel, e sobre o propósito de sua viagem, e que pretendem acompanhá-lo e ajudá-lo. Depois do choque inicial, Frodo aceita a ajuda deles alegremente, e eles decidem partir no dia seguinte, bem cedo, pela Floresta Velha, um lugar conhecido como esquisito e perigoso, para evitar as estradas que provavelmente serão vigiadas pelos Cavaleiros.',\n",
              " 'Capítulo 6': 'A Floresta Velha\\nOs hobbits entram na Floresta Velha e logo começam a sentir sua estranheza, como se as árvores estivessem vigiando-os e os odiassem. Eles chegam à Clareira onde os hobbits queimaram uma grande quantidade de árvores há muito tempo atrás. De lá, eles seguem um caminho que os conduz a uma colina que sobe fora da Floresta, e de lá, como eles eventualmente notam, para o Rio Withywindle, a parte central e mais estranha da floresta. Eles querem evitar isso e deixar o caminho, mas acham o terreno sempre mais difícil na direção em que gostariam de ir. Eles caem em um barranco que é muito íngreme para ser escalado novamente e, seguindo-o, chegam ao Withywindle e acham um caminho que corre ao longo dele. Este caminho os traz a um velho salgueiro, perto do qual começam a sentir-se sonolentos de repente. Frodo, Merry e Pippin dormem, e a árvore lança Frodo na água e captura Merry e Pippin debaixo de suas raízes. Sam e Frodo não podem salvá-los, e correm ao longo do caminho, enquanto pedem por ajuda, desesperados. Eles encontram Tom Bombadil, um homem estranho que canta canções absurdas. Tom canta a melodia certa, e o salgueiro liberta Merry e Pippin; então Tom convida os hobits para irem à casa dele, onde vive com Fruta DOuro.',\n",
              " 'Capítulo 7': 'Na Casa de Tom Bombadil\\nEles comem um jantar magnífico e então vão dormir, e cada um deles tem sonhos diferentes e estranhos. No dia os hobbits falam com Tom Bombadil durante o dia inteiro. Tom lhes fala muito sobre a Floresta, os tipos de árvores e animais, o Velho Homem-Salgueiro, e a história antiga da Terra-média, embora de maneira enigmática. Para a surpresa deles, descobrem que o Anel não tem nenhum poder sobre Bombadil. Ele lhes dá conselhos no dia seguinte, e lhes ensina uma rima parra chamá-lo se eles precisarem da ajuda dele.',\n",
              " 'Capítulo 8': 'Névoa nas Colinas dos Túmulos\\nNo dia seguinte, os hobbits deixam a casa de Tom, pretendendo cruzar os Túmulos. Eles fazem um progresso bom pela manhã, e ao redor de meio-dia param para descansar. Estranhamente há um grande pedra fria que se levanta no topo plano de uma colina. Eles adormecem e são despertados por um pôr-do-sol cercado pela névoa. Eles imediatamente se encaminham na direção que eles acreditam ser a mais direta para a Estrada; algum tempo depois Frodo, que estava na frente, passa entre duas pedras paradas e nota que os outros se foram. Ele começa a gritar por ajuda, e é capturado por uma Criatura Tumular. Ele desperta novamente dentro de um túmulo, nota que os outros estão inconscientes perto dele e que uma mão está rastejando na direção deles. Frodo canta a rima que Tom Bombadil tinha lhes ensinado um dia antes, e realmente Tom vem muito rápido, e a luz do dia destrói a Criatura Tumular. Tom desperta os outros três hobits, e dá a cada um deles uma espada, tirada dos tesouros que estavam dentro do túmulo. Ele também traz os pôneis deles que fugiram à noite, e os acompanha durante algum tempo, até as fronteiras das terras dele. Os hobbits partem, e chegam à aldeia de Bri pela noite.',\n",
              " 'Capítulo 9': 'No Pônei Saltitante\\nO hobbits entram no Pônei Saltitante, uma hospedaria grande em Bri. Um grupo diversificado de hóspedes já esta reunido lá'}"
            ]
          },
          "metadata": {},
          "execution_count": 18
        }
      ]
    },
    {
      "cell_type": "markdown",
      "metadata": {
        "id": "2KHzNy7B5Fsc"
      },
      "source": [
        "#### 2) Compute a quantidade de caracteres, quantidade de palavras, quantidade de palavras únicas e quantidade de sentenças de cada capítulo e apresente em um `DataFrame` da biblioteca pandas - ESTRUTURA DO DATAFRAME\n",
        "\n",
        "| qtd_caracter | qtd_palavras | qtd_palavras_unicas | qtd_sentenças |   |\n",
        "|--------------|--------------|---------------------|---------------|---|\n",
        "| 500          | 40           | 35                  | 5             |   |\n",
        "| 489          | 32           | 20                  | 6             |   |\n",
        "|              |              |                     |               |   |"
      ]
    },
    {
      "cell_type": "code",
      "source": [
        ""
      ],
      "metadata": {
        "id": "8z2zgeiomzKm"
      },
      "execution_count": 18,
      "outputs": []
    },
    {
      "cell_type": "code",
      "metadata": {
        "id": "9qo438975l4L"
      },
      "source": [
        "import pandas as pd "
      ],
      "execution_count": 19,
      "outputs": []
    },
    {
      "cell_type": "code",
      "source": [
        "import nltk\n",
        "nltk.download('punkt')"
      ],
      "metadata": {
        "colab": {
          "base_uri": "https://localhost:8080/"
        },
        "id": "imj1hVg_mbbO",
        "outputId": "6c19126a-15b4-4abf-93bc-82f07112ed6a"
      },
      "execution_count": 20,
      "outputs": [
        {
          "output_type": "stream",
          "name": "stdout",
          "text": [
            "[nltk_data] Downloading package punkt to /root/nltk_data...\n",
            "[nltk_data]   Package punkt is already up-to-date!\n"
          ]
        },
        {
          "output_type": "execute_result",
          "data": {
            "text/plain": [
              "True"
            ]
          },
          "metadata": {},
          "execution_count": 20
        }
      ]
    },
    {
      "cell_type": "code",
      "source": [
        "qtd_caracter = list()\n",
        "\n",
        "for key,value in corpus_dict.items():\n",
        "  data = {\n",
        "          \"id\":key.replace(\"Capítulo \",\"\"),\n",
        "          \"qtd_caracter\":len(value),\n",
        "          \"capitulo\":key,\n",
        "          \"texto\":value\n",
        "          }\n",
        "  qtd_caracter.append(data)\n",
        "   "
      ],
      "metadata": {
        "id": "YICkQF9OnjSv"
      },
      "execution_count": 21,
      "outputs": []
    },
    {
      "cell_type": "code",
      "source": [
        "df = pd.DataFrame(qtd_caracter)"
      ],
      "metadata": {
        "id": "ZEvGzlnWwgEw"
      },
      "execution_count": 22,
      "outputs": []
    },
    {
      "cell_type": "code",
      "source": [
        "df.head()"
      ],
      "metadata": {
        "colab": {
          "base_uri": "https://localhost:8080/",
          "height": 206
        },
        "id": "OA7f3gHGHShz",
        "outputId": "0d09de46-2c9d-4a55-d618-5930bb34e984"
      },
      "execution_count": 24,
      "outputs": [
        {
          "output_type": "execute_result",
          "data": {
            "text/plain": [
              "  id  qtd_caracter    capitulo  \\\n",
              "0  1          1348  Capítulo 1   \n",
              "1  2          1299  Capítulo 2   \n",
              "2  3           892  Capítulo 3   \n",
              "3  4           965  Capítulo 4   \n",
              "4  5           684  Capítulo 5   \n",
              "\n",
              "                                               texto  \n",
              "0  Uma festa muito esperada\\nSessenta anos passar...  \n",
              "1  A Sombra do Passado\\nGandalf visita Frodo só a...  \n",
              "2  Três não é demais\\nFrodo vende o Bolsão aos Sa...  \n",
              "3  Um atalho para cogumelos\\nNo dia seguinte, Fro...  \n",
              "4  Conspiração Desmascarada\\nConforme eles cruzam...  "
            ],
            "text/html": [
              "\n",
              "  <div id=\"df-ccf60786-56cb-4fce-92f4-eea44d3fa7b0\">\n",
              "    <div class=\"colab-df-container\">\n",
              "      <div>\n",
              "<style scoped>\n",
              "    .dataframe tbody tr th:only-of-type {\n",
              "        vertical-align: middle;\n",
              "    }\n",
              "\n",
              "    .dataframe tbody tr th {\n",
              "        vertical-align: top;\n",
              "    }\n",
              "\n",
              "    .dataframe thead th {\n",
              "        text-align: right;\n",
              "    }\n",
              "</style>\n",
              "<table border=\"1\" class=\"dataframe\">\n",
              "  <thead>\n",
              "    <tr style=\"text-align: right;\">\n",
              "      <th></th>\n",
              "      <th>id</th>\n",
              "      <th>qtd_caracter</th>\n",
              "      <th>capitulo</th>\n",
              "      <th>texto</th>\n",
              "    </tr>\n",
              "  </thead>\n",
              "  <tbody>\n",
              "    <tr>\n",
              "      <th>0</th>\n",
              "      <td>1</td>\n",
              "      <td>1348</td>\n",
              "      <td>Capítulo 1</td>\n",
              "      <td>Uma festa muito esperada\\nSessenta anos passar...</td>\n",
              "    </tr>\n",
              "    <tr>\n",
              "      <th>1</th>\n",
              "      <td>2</td>\n",
              "      <td>1299</td>\n",
              "      <td>Capítulo 2</td>\n",
              "      <td>A Sombra do Passado\\nGandalf visita Frodo só a...</td>\n",
              "    </tr>\n",
              "    <tr>\n",
              "      <th>2</th>\n",
              "      <td>3</td>\n",
              "      <td>892</td>\n",
              "      <td>Capítulo 3</td>\n",
              "      <td>Três não é demais\\nFrodo vende o Bolsão aos Sa...</td>\n",
              "    </tr>\n",
              "    <tr>\n",
              "      <th>3</th>\n",
              "      <td>4</td>\n",
              "      <td>965</td>\n",
              "      <td>Capítulo 4</td>\n",
              "      <td>Um atalho para cogumelos\\nNo dia seguinte, Fro...</td>\n",
              "    </tr>\n",
              "    <tr>\n",
              "      <th>4</th>\n",
              "      <td>5</td>\n",
              "      <td>684</td>\n",
              "      <td>Capítulo 5</td>\n",
              "      <td>Conspiração Desmascarada\\nConforme eles cruzam...</td>\n",
              "    </tr>\n",
              "  </tbody>\n",
              "</table>\n",
              "</div>\n",
              "      <button class=\"colab-df-convert\" onclick=\"convertToInteractive('df-ccf60786-56cb-4fce-92f4-eea44d3fa7b0')\"\n",
              "              title=\"Convert this dataframe to an interactive table.\"\n",
              "              style=\"display:none;\">\n",
              "        \n",
              "  <svg xmlns=\"http://www.w3.org/2000/svg\" height=\"24px\"viewBox=\"0 0 24 24\"\n",
              "       width=\"24px\">\n",
              "    <path d=\"M0 0h24v24H0V0z\" fill=\"none\"/>\n",
              "    <path d=\"M18.56 5.44l.94 2.06.94-2.06 2.06-.94-2.06-.94-.94-2.06-.94 2.06-2.06.94zm-11 1L8.5 8.5l.94-2.06 2.06-.94-2.06-.94L8.5 2.5l-.94 2.06-2.06.94zm10 10l.94 2.06.94-2.06 2.06-.94-2.06-.94-.94-2.06-.94 2.06-2.06.94z\"/><path d=\"M17.41 7.96l-1.37-1.37c-.4-.4-.92-.59-1.43-.59-.52 0-1.04.2-1.43.59L10.3 9.45l-7.72 7.72c-.78.78-.78 2.05 0 2.83L4 21.41c.39.39.9.59 1.41.59.51 0 1.02-.2 1.41-.59l7.78-7.78 2.81-2.81c.8-.78.8-2.07 0-2.86zM5.41 20L4 18.59l7.72-7.72 1.47 1.35L5.41 20z\"/>\n",
              "  </svg>\n",
              "      </button>\n",
              "      \n",
              "  <style>\n",
              "    .colab-df-container {\n",
              "      display:flex;\n",
              "      flex-wrap:wrap;\n",
              "      gap: 12px;\n",
              "    }\n",
              "\n",
              "    .colab-df-convert {\n",
              "      background-color: #E8F0FE;\n",
              "      border: none;\n",
              "      border-radius: 50%;\n",
              "      cursor: pointer;\n",
              "      display: none;\n",
              "      fill: #1967D2;\n",
              "      height: 32px;\n",
              "      padding: 0 0 0 0;\n",
              "      width: 32px;\n",
              "    }\n",
              "\n",
              "    .colab-df-convert:hover {\n",
              "      background-color: #E2EBFA;\n",
              "      box-shadow: 0px 1px 2px rgba(60, 64, 67, 0.3), 0px 1px 3px 1px rgba(60, 64, 67, 0.15);\n",
              "      fill: #174EA6;\n",
              "    }\n",
              "\n",
              "    [theme=dark] .colab-df-convert {\n",
              "      background-color: #3B4455;\n",
              "      fill: #D2E3FC;\n",
              "    }\n",
              "\n",
              "    [theme=dark] .colab-df-convert:hover {\n",
              "      background-color: #434B5C;\n",
              "      box-shadow: 0px 1px 3px 1px rgba(0, 0, 0, 0.15);\n",
              "      filter: drop-shadow(0px 1px 2px rgba(0, 0, 0, 0.3));\n",
              "      fill: #FFFFFF;\n",
              "    }\n",
              "  </style>\n",
              "\n",
              "      <script>\n",
              "        const buttonEl =\n",
              "          document.querySelector('#df-ccf60786-56cb-4fce-92f4-eea44d3fa7b0 button.colab-df-convert');\n",
              "        buttonEl.style.display =\n",
              "          google.colab.kernel.accessAllowed ? 'block' : 'none';\n",
              "\n",
              "        async function convertToInteractive(key) {\n",
              "          const element = document.querySelector('#df-ccf60786-56cb-4fce-92f4-eea44d3fa7b0');\n",
              "          const dataTable =\n",
              "            await google.colab.kernel.invokeFunction('convertToInteractive',\n",
              "                                                     [key], {});\n",
              "          if (!dataTable) return;\n",
              "\n",
              "          const docLinkHtml = 'Like what you see? Visit the ' +\n",
              "            '<a target=\"_blank\" href=https://colab.research.google.com/notebooks/data_table.ipynb>data table notebook</a>'\n",
              "            + ' to learn more about interactive tables.';\n",
              "          element.innerHTML = '';\n",
              "          dataTable['output_type'] = 'display_data';\n",
              "          await google.colab.output.renderOutput(dataTable, element);\n",
              "          const docLink = document.createElement('div');\n",
              "          docLink.innerHTML = docLinkHtml;\n",
              "          element.appendChild(docLink);\n",
              "        }\n",
              "      </script>\n",
              "    </div>\n",
              "  </div>\n",
              "  "
            ]
          },
          "metadata": {},
          "execution_count": 24
        }
      ]
    },
    {
      "cell_type": "code",
      "source": [
        "df['texto'] = df['texto'].apply(lambda var:var.replace(\"\\n\",\" \"))"
      ],
      "metadata": {
        "id": "l4zuOZkFyOFP"
      },
      "execution_count": 25,
      "outputs": []
    },
    {
      "cell_type": "code",
      "source": [
        "import nltk\n",
        "from nltk import tokenize\n",
        "\n",
        "nltk.download('punkt')\n"
      ],
      "metadata": {
        "colab": {
          "base_uri": "https://localhost:8080/"
        },
        "id": "L6kVhRthQQ5i",
        "outputId": "e4414314-54bc-400e-e16c-b9d19018e4f7"
      },
      "execution_count": 26,
      "outputs": [
        {
          "output_type": "stream",
          "name": "stdout",
          "text": [
            "[nltk_data] Downloading package punkt to /root/nltk_data...\n",
            "[nltk_data]   Package punkt is already up-to-date!\n"
          ]
        },
        {
          "output_type": "execute_result",
          "data": {
            "text/plain": [
              "True"
            ]
          },
          "metadata": {},
          "execution_count": 26
        }
      ]
    },
    {
      "cell_type": "code",
      "source": [
        "df['qtd_palavras'] = df['texto'].apply(lambda var:len(tokenize.word_tokenize(var, language='portuguese')))"
      ],
      "metadata": {
        "id": "yWmyObdsQn7E"
      },
      "execution_count": 27,
      "outputs": []
    },
    {
      "cell_type": "code",
      "source": [
        "df[\"qtd_palavras_unicas\"] = df['texto'].apply(lambda var: len(list(set(tokenize.word_tokenize(var, language='portuguese')))))"
      ],
      "metadata": {
        "id": "yDiA9MoQyrsu"
      },
      "execution_count": 30,
      "outputs": []
    },
    {
      "cell_type": "code",
      "source": [
        "df['qtd_sentenças'] = df['texto'].apply(lambda value: len([t for t in nltk.sent_tokenize(value)]))"
      ],
      "metadata": {
        "id": "oCpi6QK7z3Jh"
      },
      "execution_count": 31,
      "outputs": []
    },
    {
      "cell_type": "code",
      "source": [
        "df.head()"
      ],
      "metadata": {
        "colab": {
          "base_uri": "https://localhost:8080/",
          "height": 206
        },
        "id": "TYTOAIVZ3EOa",
        "outputId": "933b7c59-7a24-4314-dc54-8baab0f58f12"
      },
      "execution_count": 32,
      "outputs": [
        {
          "output_type": "execute_result",
          "data": {
            "text/plain": [
              "  id  qtd_caracter    capitulo  \\\n",
              "0  1          1348  Capítulo 1   \n",
              "1  2          1299  Capítulo 2   \n",
              "2  3           892  Capítulo 3   \n",
              "3  4           965  Capítulo 4   \n",
              "4  5           684  Capítulo 5   \n",
              "\n",
              "                                               texto  qtd_palavras  \\\n",
              "0  Uma festa muito esperada Sessenta anos passara...           264   \n",
              "1  A Sombra do Passado Gandalf visita Frodo só al...           255   \n",
              "2  Três não é demais Frodo vende o Bolsão aos Sac...           171   \n",
              "3  Um atalho para cogumelos No dia seguinte, Frod...           172   \n",
              "4  Conspiração Desmascarada Conforme eles cruzam ...           131   \n",
              "\n",
              "   qtd_palavras_unicas  qtd_sentenças  \n",
              "0                  150              9  \n",
              "1                  141             10  \n",
              "2                  109              5  \n",
              "3                  115              5  \n",
              "4                   87              4  "
            ],
            "text/html": [
              "\n",
              "  <div id=\"df-57f93565-8517-4132-8087-e69bbebdd2c9\">\n",
              "    <div class=\"colab-df-container\">\n",
              "      <div>\n",
              "<style scoped>\n",
              "    .dataframe tbody tr th:only-of-type {\n",
              "        vertical-align: middle;\n",
              "    }\n",
              "\n",
              "    .dataframe tbody tr th {\n",
              "        vertical-align: top;\n",
              "    }\n",
              "\n",
              "    .dataframe thead th {\n",
              "        text-align: right;\n",
              "    }\n",
              "</style>\n",
              "<table border=\"1\" class=\"dataframe\">\n",
              "  <thead>\n",
              "    <tr style=\"text-align: right;\">\n",
              "      <th></th>\n",
              "      <th>id</th>\n",
              "      <th>qtd_caracter</th>\n",
              "      <th>capitulo</th>\n",
              "      <th>texto</th>\n",
              "      <th>qtd_palavras</th>\n",
              "      <th>qtd_palavras_unicas</th>\n",
              "      <th>qtd_sentenças</th>\n",
              "    </tr>\n",
              "  </thead>\n",
              "  <tbody>\n",
              "    <tr>\n",
              "      <th>0</th>\n",
              "      <td>1</td>\n",
              "      <td>1348</td>\n",
              "      <td>Capítulo 1</td>\n",
              "      <td>Uma festa muito esperada Sessenta anos passara...</td>\n",
              "      <td>264</td>\n",
              "      <td>150</td>\n",
              "      <td>9</td>\n",
              "    </tr>\n",
              "    <tr>\n",
              "      <th>1</th>\n",
              "      <td>2</td>\n",
              "      <td>1299</td>\n",
              "      <td>Capítulo 2</td>\n",
              "      <td>A Sombra do Passado Gandalf visita Frodo só al...</td>\n",
              "      <td>255</td>\n",
              "      <td>141</td>\n",
              "      <td>10</td>\n",
              "    </tr>\n",
              "    <tr>\n",
              "      <th>2</th>\n",
              "      <td>3</td>\n",
              "      <td>892</td>\n",
              "      <td>Capítulo 3</td>\n",
              "      <td>Três não é demais Frodo vende o Bolsão aos Sac...</td>\n",
              "      <td>171</td>\n",
              "      <td>109</td>\n",
              "      <td>5</td>\n",
              "    </tr>\n",
              "    <tr>\n",
              "      <th>3</th>\n",
              "      <td>4</td>\n",
              "      <td>965</td>\n",
              "      <td>Capítulo 4</td>\n",
              "      <td>Um atalho para cogumelos No dia seguinte, Frod...</td>\n",
              "      <td>172</td>\n",
              "      <td>115</td>\n",
              "      <td>5</td>\n",
              "    </tr>\n",
              "    <tr>\n",
              "      <th>4</th>\n",
              "      <td>5</td>\n",
              "      <td>684</td>\n",
              "      <td>Capítulo 5</td>\n",
              "      <td>Conspiração Desmascarada Conforme eles cruzam ...</td>\n",
              "      <td>131</td>\n",
              "      <td>87</td>\n",
              "      <td>4</td>\n",
              "    </tr>\n",
              "  </tbody>\n",
              "</table>\n",
              "</div>\n",
              "      <button class=\"colab-df-convert\" onclick=\"convertToInteractive('df-57f93565-8517-4132-8087-e69bbebdd2c9')\"\n",
              "              title=\"Convert this dataframe to an interactive table.\"\n",
              "              style=\"display:none;\">\n",
              "        \n",
              "  <svg xmlns=\"http://www.w3.org/2000/svg\" height=\"24px\"viewBox=\"0 0 24 24\"\n",
              "       width=\"24px\">\n",
              "    <path d=\"M0 0h24v24H0V0z\" fill=\"none\"/>\n",
              "    <path d=\"M18.56 5.44l.94 2.06.94-2.06 2.06-.94-2.06-.94-.94-2.06-.94 2.06-2.06.94zm-11 1L8.5 8.5l.94-2.06 2.06-.94-2.06-.94L8.5 2.5l-.94 2.06-2.06.94zm10 10l.94 2.06.94-2.06 2.06-.94-2.06-.94-.94-2.06-.94 2.06-2.06.94z\"/><path d=\"M17.41 7.96l-1.37-1.37c-.4-.4-.92-.59-1.43-.59-.52 0-1.04.2-1.43.59L10.3 9.45l-7.72 7.72c-.78.78-.78 2.05 0 2.83L4 21.41c.39.39.9.59 1.41.59.51 0 1.02-.2 1.41-.59l7.78-7.78 2.81-2.81c.8-.78.8-2.07 0-2.86zM5.41 20L4 18.59l7.72-7.72 1.47 1.35L5.41 20z\"/>\n",
              "  </svg>\n",
              "      </button>\n",
              "      \n",
              "  <style>\n",
              "    .colab-df-container {\n",
              "      display:flex;\n",
              "      flex-wrap:wrap;\n",
              "      gap: 12px;\n",
              "    }\n",
              "\n",
              "    .colab-df-convert {\n",
              "      background-color: #E8F0FE;\n",
              "      border: none;\n",
              "      border-radius: 50%;\n",
              "      cursor: pointer;\n",
              "      display: none;\n",
              "      fill: #1967D2;\n",
              "      height: 32px;\n",
              "      padding: 0 0 0 0;\n",
              "      width: 32px;\n",
              "    }\n",
              "\n",
              "    .colab-df-convert:hover {\n",
              "      background-color: #E2EBFA;\n",
              "      box-shadow: 0px 1px 2px rgba(60, 64, 67, 0.3), 0px 1px 3px 1px rgba(60, 64, 67, 0.15);\n",
              "      fill: #174EA6;\n",
              "    }\n",
              "\n",
              "    [theme=dark] .colab-df-convert {\n",
              "      background-color: #3B4455;\n",
              "      fill: #D2E3FC;\n",
              "    }\n",
              "\n",
              "    [theme=dark] .colab-df-convert:hover {\n",
              "      background-color: #434B5C;\n",
              "      box-shadow: 0px 1px 3px 1px rgba(0, 0, 0, 0.15);\n",
              "      filter: drop-shadow(0px 1px 2px rgba(0, 0, 0, 0.3));\n",
              "      fill: #FFFFFF;\n",
              "    }\n",
              "  </style>\n",
              "\n",
              "      <script>\n",
              "        const buttonEl =\n",
              "          document.querySelector('#df-57f93565-8517-4132-8087-e69bbebdd2c9 button.colab-df-convert');\n",
              "        buttonEl.style.display =\n",
              "          google.colab.kernel.accessAllowed ? 'block' : 'none';\n",
              "\n",
              "        async function convertToInteractive(key) {\n",
              "          const element = document.querySelector('#df-57f93565-8517-4132-8087-e69bbebdd2c9');\n",
              "          const dataTable =\n",
              "            await google.colab.kernel.invokeFunction('convertToInteractive',\n",
              "                                                     [key], {});\n",
              "          if (!dataTable) return;\n",
              "\n",
              "          const docLinkHtml = 'Like what you see? Visit the ' +\n",
              "            '<a target=\"_blank\" href=https://colab.research.google.com/notebooks/data_table.ipynb>data table notebook</a>'\n",
              "            + ' to learn more about interactive tables.';\n",
              "          element.innerHTML = '';\n",
              "          dataTable['output_type'] = 'display_data';\n",
              "          await google.colab.output.renderOutput(dataTable, element);\n",
              "          const docLink = document.createElement('div');\n",
              "          docLink.innerHTML = docLinkHtml;\n",
              "          element.appendChild(docLink);\n",
              "        }\n",
              "      </script>\n",
              "    </div>\n",
              "  </div>\n",
              "  "
            ]
          },
          "metadata": {},
          "execution_count": 32
        }
      ]
    },
    {
      "cell_type": "markdown",
      "metadata": {
        "id": "TZVERGEw7C2Y"
      },
      "source": [
        "#### 3) Apresente um gráfico de barras comparando a quantidade de palavras únicas de cada capítulo"
      ]
    },
    {
      "cell_type": "code",
      "metadata": {
        "id": "SnurKs8w79Ya",
        "colab": {
          "base_uri": "https://localhost:8080/",
          "height": 444
        },
        "outputId": "1b00280d-e26d-4ae6-8b01-b7c9c6877371"
      },
      "source": [
        "import matplotlib.pyplot as plt \n",
        "from matplotlib.pyplot import figure\n",
        "\n",
        "figure(figsize=(8, 6), dpi=80)\n",
        "\n",
        "capitulo = df[\"id\"].values.tolist()\n",
        "qtd_palavras_unicas = df[\"qtd_palavras_unicas\"].values.tolist()\n",
        "plt.bar(capitulo, qtd_palavras_unicas,color='blue')\n",
        "\n",
        "plt.xticks(capitulo)\n",
        "plt.ylabel(\"quantidade de palavras unicas\")\n",
        "plt.xlabel(\"capitulos\")\n",
        "\n",
        "plt.title(\"Comparando palavras unicas por capitulo\")\n",
        "\n",
        "plt.show()"
      ],
      "execution_count": 33,
      "outputs": [
        {
          "output_type": "display_data",
          "data": {
            "text/plain": [
              "<Figure size 640x480 with 1 Axes>"
            ],
            "image/png": "[encoded data removed]"
          },
          "metadata": {
            "needs_background": "light"
          }
        }
      ]
    },
    {
      "cell_type": "markdown",
      "metadata": {
        "id": "zn-v-dex9v2b"
      },
      "source": [
        "#### 4) Imagine que durante o processo de sumarização/tradução dos textos, os dois revisores participantes referenciaram a palavra \"hobbits\" de maneira errada em algumas partes do texto, colocando a grafia \"hobits\" no lugar. Faça um programa que utilizando o algoritmo de **distância de Levenshtein**, encontre e imprima em quais capítulos são encontrados os erros de grafia. "
      ]
    },
    {
      "cell_type": "code",
      "source": [
        "!pip3 install jellyfish"
      ],
      "metadata": {
        "colab": {
          "base_uri": "https://localhost:8080/"
        },
        "id": "P1cTnYY45zf6",
        "outputId": "e5e00fb3-cac2-45d1-904b-814cf180d530"
      },
      "execution_count": 38,
      "outputs": [
        {
          "output_type": "stream",
          "name": "stdout",
          "text": [
            "Collecting jellyfish\n",
            "  Downloading jellyfish-0.9.0.tar.gz (132 kB)\n",
            "\u001b[?25l\r\u001b[K     |██▌                             | 10 kB 16.2 MB/s eta 0:00:01\r\u001b[K     |█████                           | 20 kB 15.0 MB/s eta 0:00:01\r\u001b[K     |███████▍                        | 30 kB 11.2 MB/s eta 0:00:01\r\u001b[K     |█████████▉                      | 40 kB 4.6 MB/s eta 0:00:01\r\u001b[K     |████████████▍                   | 51 kB 4.5 MB/s eta 0:00:01\r\u001b[K     |██████████████▉                 | 61 kB 5.2 MB/s eta 0:00:01\r\u001b[K     |█████████████████▎              | 71 kB 5.4 MB/s eta 0:00:01\r\u001b[K     |███████████████████▊            | 81 kB 5.3 MB/s eta 0:00:01\r\u001b[K     |██████████████████████▎         | 92 kB 5.9 MB/s eta 0:00:01\r\u001b[K     |████████████████████████▊       | 102 kB 5.2 MB/s eta 0:00:01\r\u001b[K     |███████████████████████████▏    | 112 kB 5.2 MB/s eta 0:00:01\r\u001b[K     |█████████████████████████████▋  | 122 kB 5.2 MB/s eta 0:00:01\r\u001b[K     |████████████████████████████████| 132 kB 5.2 MB/s \n",
            "\u001b[?25hBuilding wheels for collected packages: jellyfish\n",
            "  Building wheel for jellyfish (setup.py) ... \u001b[?25l\u001b[?25hdone\n",
            "  Created wheel for jellyfish: filename=jellyfish-0.9.0-cp37-cp37m-linux_x86_64.whl size=73972 sha256=130c878ea06dee251cb81d1057c9946fa09131849ed3c6be5006f9f4f9158d09\n",
            "  Stored in directory: /root/.cache/pip/wheels/fe/99/4e/646ce766df0d070b0ef04db27aa11543e2767fda3075aec31b\n",
            "Successfully built jellyfish\n",
            "Installing collected packages: jellyfish\n",
            "Successfully installed jellyfish-0.9.0\n"
          ]
        }
      ]
    },
    {
      "cell_type": "code",
      "metadata": {
        "id": "_2uZAeZe_Ea7"
      },
      "source": [
        "import jellyfish as jf"
      ],
      "execution_count": 39,
      "outputs": []
    },
    {
      "cell_type": "code",
      "source": [
        "print(jf.levenshtein_distance('gato', 'grato'))"
      ],
      "metadata": {
        "colab": {
          "base_uri": "https://localhost:8080/"
        },
        "id": "dwRUKXKD8-B8",
        "outputId": "85579cd4-7ac3-4542-c8f2-2009219deaa0"
      },
      "execution_count": 40,
      "outputs": [
        {
          "output_type": "stream",
          "name": "stdout",
          "text": [
            "1\n"
          ]
        }
      ]
    },
    {
      "cell_type": "code",
      "source": [
        ""
      ],
      "metadata": {
        "id": "Yu7jZZNh-Iwn"
      },
      "execution_count": 40,
      "outputs": []
    },
    {
      "cell_type": "code",
      "source": [
        "def leven_discance_model(corpus):\n",
        "  value = list()\n",
        "  for chapter in corpus:\n",
        "      chapter_words = re.split(',| ', chapter)\n",
        "      for word in chapter_words:\n",
        "        leven_distance_jf = jf.levenshtein_distance('hobbits', word)\n",
        "        leven_distance_nltk = nltk.edit_distance('hobbits', word)\n",
        "        if(leven_distance_nltk == 1 and re.search(r's$', word)) and leven_distance_jf == 1:\n",
        "          aux = {\n",
        "              \"leven_distance_jf\": leven_distance_jf,\n",
        "              \"leven_distance_nltk\": leven_distance_nltk,\n",
        "              \"chapter_words\": chapter_words[1] ,\n",
        "              \"word\":word\n",
        "              }\n",
        "          value.append(aux)    \n",
        "          #print(value)    \n",
        "  return value            \n",
        "   "
      ],
      "metadata": {
        "id": "ElqZ24oJLEiA"
      },
      "execution_count": 41,
      "outputs": []
    },
    {
      "cell_type": "code",
      "source": [
        "pd.DataFrame(leven_discance_model(corpus))"
      ],
      "metadata": {
        "colab": {
          "base_uri": "https://localhost:8080/",
          "height": 112
        },
        "id": "DD5qyUT7Krx2",
        "outputId": "6520446a-93f0-48f8-fa3b-7832990171dc"
      },
      "execution_count": 42,
      "outputs": [
        {
          "output_type": "execute_result",
          "data": {
            "text/plain": [
              "   leven_distance_jf  leven_distance_nltk chapter_words    word\n",
              "0                  1                    1            6:  hobits\n",
              "1                  1                    1            8:  hobits"
            ],
            "text/html": [
              "\n",
              "  <div id=\"df-11fecc89-cde9-4f2a-9a87-8bde825adfbf\">\n",
              "    <div class=\"colab-df-container\">\n",
              "      <div>\n",
              "<style scoped>\n",
              "    .dataframe tbody tr th:only-of-type {\n",
              "        vertical-align: middle;\n",
              "    }\n",
              "\n",
              "    .dataframe tbody tr th {\n",
              "        vertical-align: top;\n",
              "    }\n",
              "\n",
              "    .dataframe thead th {\n",
              "        text-align: right;\n",
              "    }\n",
              "</style>\n",
              "<table border=\"1\" class=\"dataframe\">\n",
              "  <thead>\n",
              "    <tr style=\"text-align: right;\">\n",
              "      <th></th>\n",
              "      <th>leven_distance_jf</th>\n",
              "      <th>leven_distance_nltk</th>\n",
              "      <th>chapter_words</th>\n",
              "      <th>word</th>\n",
              "    </tr>\n",
              "  </thead>\n",
              "  <tbody>\n",
              "    <tr>\n",
              "      <th>0</th>\n",
              "      <td>1</td>\n",
              "      <td>1</td>\n",
              "      <td>6:</td>\n",
              "      <td>hobits</td>\n",
              "    </tr>\n",
              "    <tr>\n",
              "      <th>1</th>\n",
              "      <td>1</td>\n",
              "      <td>1</td>\n",
              "      <td>8:</td>\n",
              "      <td>hobits</td>\n",
              "    </tr>\n",
              "  </tbody>\n",
              "</table>\n",
              "</div>\n",
              "      <button class=\"colab-df-convert\" onclick=\"convertToInteractive('df-11fecc89-cde9-4f2a-9a87-8bde825adfbf')\"\n",
              "              title=\"Convert this dataframe to an interactive table.\"\n",
              "              style=\"display:none;\">\n",
              "        \n",
              "  <svg xmlns=\"http://www.w3.org/2000/svg\" height=\"24px\"viewBox=\"0 0 24 24\"\n",
              "       width=\"24px\">\n",
              "    <path d=\"M0 0h24v24H0V0z\" fill=\"none\"/>\n",
              "    <path d=\"M18.56 5.44l.94 2.06.94-2.06 2.06-.94-2.06-.94-.94-2.06-.94 2.06-2.06.94zm-11 1L8.5 8.5l.94-2.06 2.06-.94-2.06-.94L8.5 2.5l-.94 2.06-2.06.94zm10 10l.94 2.06.94-2.06 2.06-.94-2.06-.94-.94-2.06-.94 2.06-2.06.94z\"/><path d=\"M17.41 7.96l-1.37-1.37c-.4-.4-.92-.59-1.43-.59-.52 0-1.04.2-1.43.59L10.3 9.45l-7.72 7.72c-.78.78-.78 2.05 0 2.83L4 21.41c.39.39.9.59 1.41.59.51 0 1.02-.2 1.41-.59l7.78-7.78 2.81-2.81c.8-.78.8-2.07 0-2.86zM5.41 20L4 18.59l7.72-7.72 1.47 1.35L5.41 20z\"/>\n",
              "  </svg>\n",
              "      </button>\n",
              "      \n",
              "  <style>\n",
              "    .colab-df-container {\n",
              "      display:flex;\n",
              "      flex-wrap:wrap;\n",
              "      gap: 12px;\n",
              "    }\n",
              "\n",
              "    .colab-df-convert {\n",
              "      background-color: #E8F0FE;\n",
              "      border: none;\n",
              "      border-radius: 50%;\n",
              "      cursor: pointer;\n",
              "      display: none;\n",
              "      fill: #1967D2;\n",
              "      height: 32px;\n",
              "      padding: 0 0 0 0;\n",
              "      width: 32px;\n",
              "    }\n",
              "\n",
              "    .colab-df-convert:hover {\n",
              "      background-color: #E2EBFA;\n",
              "      box-shadow: 0px 1px 2px rgba(60, 64, 67, 0.3), 0px 1px 3px 1px rgba(60, 64, 67, 0.15);\n",
              "      fill: #174EA6;\n",
              "    }\n",
              "\n",
              "    [theme=dark] .colab-df-convert {\n",
              "      background-color: #3B4455;\n",
              "      fill: #D2E3FC;\n",
              "    }\n",
              "\n",
              "    [theme=dark] .colab-df-convert:hover {\n",
              "      background-color: #434B5C;\n",
              "      box-shadow: 0px 1px 3px 1px rgba(0, 0, 0, 0.15);\n",
              "      filter: drop-shadow(0px 1px 2px rgba(0, 0, 0, 0.3));\n",
              "      fill: #FFFFFF;\n",
              "    }\n",
              "  </style>\n",
              "\n",
              "      <script>\n",
              "        const buttonEl =\n",
              "          document.querySelector('#df-11fecc89-cde9-4f2a-9a87-8bde825adfbf button.colab-df-convert');\n",
              "        buttonEl.style.display =\n",
              "          google.colab.kernel.accessAllowed ? 'block' : 'none';\n",
              "\n",
              "        async function convertToInteractive(key) {\n",
              "          const element = document.querySelector('#df-11fecc89-cde9-4f2a-9a87-8bde825adfbf');\n",
              "          const dataTable =\n",
              "            await google.colab.kernel.invokeFunction('convertToInteractive',\n",
              "                                                     [key], {});\n",
              "          if (!dataTable) return;\n",
              "\n",
              "          const docLinkHtml = 'Like what you see? Visit the ' +\n",
              "            '<a target=\"_blank\" href=https://colab.research.google.com/notebooks/data_table.ipynb>data table notebook</a>'\n",
              "            + ' to learn more about interactive tables.';\n",
              "          element.innerHTML = '';\n",
              "          dataTable['output_type'] = 'display_data';\n",
              "          await google.colab.output.renderOutput(dataTable, element);\n",
              "          const docLink = document.createElement('div');\n",
              "          docLink.innerHTML = docLinkHtml;\n",
              "          element.appendChild(docLink);\n",
              "        }\n",
              "      </script>\n",
              "    </div>\n",
              "  </div>\n",
              "  "
            ]
          },
          "metadata": {},
          "execution_count": 42
        }
      ]
    },
    {
      "cell_type": "code",
      "source": [
        ""
      ],
      "metadata": {
        "id": "VvHZSR5JNE9L"
      },
      "execution_count": 320,
      "outputs": []
    },
    {
      "cell_type": "code",
      "source": [
        ""
      ],
      "metadata": {
        "id": "dwaFq_4BKgcK"
      },
      "execution_count": 301,
      "outputs": []
    },
    {
      "cell_type": "markdown",
      "metadata": {
        "id": "ZNLDSqr15mOx"
      },
      "source": [
        "#### 5) Remova as stop-words do corpus e mostre os vetores resultantes (com suas palavras correspondentes) do processo de BoW.\n",
        "> DICA: Você pode utilizar um atributo da própria função [CountVectorizer](https://scikit-learn.org/stable/modules/generated/sklearn.feature_extraction.text.CountVectorizer.html)\n",
        "\n"
      ]
    },
    {
      "cell_type": "code",
      "source": [
        "from nltk.corpus import stopwords\n",
        "nltk.download('stopwords')\n",
        "from nltk.tokenize import word_tokenize\n",
        "import pandas as pd\n",
        "from sklearn.feature_extraction.text import CountVectorizer\n"
      ],
      "metadata": {
        "colab": {
          "base_uri": "https://localhost:8080/"
        },
        "id": "qGlLW_TrRgWU",
        "outputId": "44a090e4-2888-41e7-dc53-58a2481dfc1a"
      },
      "execution_count": 43,
      "outputs": [
        {
          "output_type": "stream",
          "name": "stdout",
          "text": [
            "[nltk_data] Downloading package stopwords to /root/nltk_data...\n",
            "[nltk_data]   Unzipping corpora/stopwords.zip.\n"
          ]
        }
      ]
    },
    {
      "cell_type": "code",
      "source": [
        "def geradf(wm, feat_names):\n",
        "   \n",
        "   doc_name = [\"Capítulo {:d}\".format(idx) for idx, _ in enumerate(wm)]\n",
        "   \n",
        "   df = pd.DataFrame(data=wm.toarray(),\n",
        "                     index=doc_name, \n",
        "                     columns=feat_names)\n",
        "   \n",
        "   return df\n"
      ],
      "metadata": {
        "id": "zywiVUnXQf2U"
      },
      "execution_count": 44,
      "outputs": []
    },
    {
      "cell_type": "code",
      "source": [
        "def remove_stop_works(value):\n",
        "   text_tokens = word_tokenize(value)\n",
        "   tokens_without_sw = [word for word in text_tokens if not word in stopwords.words()]\n",
        "   return \" \".join(tokens_without_sw)\n",
        "\n",
        "def vetores_correspondente(value):\n",
        "   documentos = value\n",
        "   countvec = CountVectorizer(lowercase=False)\n",
        "   matrix = countvec.fit_transform(documentos)\n",
        "   tokens = countvec.get_feature_names()\n",
        "   return geradf(matrix, tokens)"
      ],
      "metadata": {
        "id": "ojhQTI6DQ88M"
      },
      "execution_count": 45,
      "outputs": []
    },
    {
      "cell_type": "code",
      "source": [
        "vetores_correspondente(df['texto'].apply(remove_stop_works).values.tolist())"
      ],
      "metadata": {
        "colab": {
          "base_uri": "https://localhost:8080/",
          "height": 512
        },
        "id": "8LEpNm1gRiVo",
        "outputId": "b86cd5ff-22d6-4809-ef37-b24614755997"
      },
      "execution_count": 46,
      "outputs": [
        {
          "output_type": "stream",
          "name": "stderr",
          "text": [
            "/usr/local/lib/python3.7/dist-packages/sklearn/utils/deprecation.py:87: FutureWarning: Function get_feature_names is deprecated; get_feature_names is deprecated in 1.0 and will be removed in 1.2. Please use get_feature_names_out instead.\n",
            "  warnings.warn(msg, category=FutureWarning)\n"
          ]
        },
        {
          "output_type": "execute_result",
          "data": {
            "text/plain": [
              "             111o  144  33o  Achando  Altos  Anel  Anéis  Aragorn  Assim  \\\n",
              "Capítulo 0      1    1    1        0      0     0      0        0      0   \n",
              "Capítulo 1      0    0    0        1      0     0      1        0      0   \n",
              "Capítulo 2      0    0    0        0      1     0      0        0      0   \n",
              "Capítulo 3      0    0    0        0      0     0      0        0      0   \n",
              "Capítulo 4      0    0    0        0      0     1      0        0      0   \n",
              "Capítulo 5      0    0    0        0      0     0      0        0      0   \n",
              "Capítulo 6      0    0    0        0      0     1      0        0      0   \n",
              "Capítulo 7      0    0    0        0      0     0      0        0      0   \n",
              "Capítulo 8      0    0    0        0      0     0      0        0      0   \n",
              "Capítulo 9      0    0    0        0      0     0      0        1      1   \n",
              "Capítulo 10     0    0    0        0      0     1      0        0      0   \n",
              "Capítulo 11     0    0    0        0      0     0      0        0      0   \n",
              "\n",
              "             Bilbo  ...  vários  vão  Élfico  água  área  árvore  árvores  \\\n",
              "Capítulo 0       5  ...       0    0       0     0     0       0        0   \n",
              "Capítulo 1       3  ...       0    0       0     0     0       0        0   \n",
              "Capítulo 2       0  ...       0    0       0     0     0       0        0   \n",
              "Capítulo 3       0  ...       0    0       0     0     0       0        0   \n",
              "Capítulo 4       0  ...       0    1       0     0     0       0        0   \n",
              "Capítulo 5       0  ...       0    0       0     1     0       1        2   \n",
              "Capítulo 6       0  ...       0    1       0     0     0       0        1   \n",
              "Capítulo 7       0  ...       0    0       0     0     0       0        0   \n",
              "Capítulo 8       0  ...       0    0       0     0     0       0        0   \n",
              "Capítulo 9       0  ...       1    0       0     0     0       0        0   \n",
              "Capítulo 10      0  ...       0    1       0     0     1       0        0   \n",
              "Capítulo 11      1  ...       0    0       1     0     0       0        0   \n",
              "\n",
              "             íngreme  íntimos  única  \n",
              "Capítulo 0         0        1      0  \n",
              "Capítulo 1         0        0      0  \n",
              "Capítulo 2         0        0      0  \n",
              "Capítulo 3         0        0      0  \n",
              "Capítulo 4         0        0      0  \n",
              "Capítulo 5         1        0      0  \n",
              "Capítulo 6         0        0      0  \n",
              "Capítulo 7         0        0      0  \n",
              "Capítulo 8         0        0      0  \n",
              "Capítulo 9         0        0      0  \n",
              "Capítulo 10        0        0      0  \n",
              "Capítulo 11        0        0      1  \n",
              "\n",
              "[12 rows x 632 columns]"
            ],
            "text/html": [
              "\n",
              "  <div id=\"df-d9cdfda5-e563-407e-9bdb-364d81537948\">\n",
              "    <div class=\"colab-df-container\">\n",
              "      <div>\n",
              "<style scoped>\n",
              "    .dataframe tbody tr th:only-of-type {\n",
              "        vertical-align: middle;\n",
              "    }\n",
              "\n",
              "    .dataframe tbody tr th {\n",
              "        vertical-align: top;\n",
              "    }\n",
              "\n",
              "    .dataframe thead th {\n",
              "        text-align: right;\n",
              "    }\n",
              "</style>\n",
              "<table border=\"1\" class=\"dataframe\">\n",
              "  <thead>\n",
              "    <tr style=\"text-align: right;\">\n",
              "      <th></th>\n",
              "      <th>111o</th>\n",
              "      <th>144</th>\n",
              "      <th>33o</th>\n",
              "      <th>Achando</th>\n",
              "      <th>Altos</th>\n",
              "      <th>Anel</th>\n",
              "      <th>Anéis</th>\n",
              "      <th>Aragorn</th>\n",
              "      <th>Assim</th>\n",
              "      <th>Bilbo</th>\n",
              "      <th>...</th>\n",
              "      <th>vários</th>\n",
              "      <th>vão</th>\n",
              "      <th>Élfico</th>\n",
              "      <th>água</th>\n",
              "      <th>área</th>\n",
              "      <th>árvore</th>\n",
              "      <th>árvores</th>\n",
              "      <th>íngreme</th>\n",
              "      <th>íntimos</th>\n",
              "      <th>única</th>\n",
              "    </tr>\n",
              "  </thead>\n",
              "  <tbody>\n",
              "    <tr>\n",
              "      <th>Capítulo 0</th>\n",
              "      <td>1</td>\n",
              "      <td>1</td>\n",
              "      <td>1</td>\n",
              "      <td>0</td>\n",
              "      <td>0</td>\n",
              "      <td>0</td>\n",
              "      <td>0</td>\n",
              "      <td>0</td>\n",
              "      <td>0</td>\n",
              "      <td>5</td>\n",
              "      <td>...</td>\n",
              "      <td>0</td>\n",
              "      <td>0</td>\n",
              "      <td>0</td>\n",
              "      <td>0</td>\n",
              "      <td>0</td>\n",
              "      <td>0</td>\n",
              "      <td>0</td>\n",
              "      <td>0</td>\n",
              "      <td>1</td>\n",
              "      <td>0</td>\n",
              "    </tr>\n",
              "    <tr>\n",
              "      <th>Capítulo 1</th>\n",
              "      <td>0</td>\n",
              "      <td>0</td>\n",
              "      <td>0</td>\n",
              "      <td>1</td>\n",
              "      <td>0</td>\n",
              "      <td>0</td>\n",
              "      <td>1</td>\n",
              "      <td>0</td>\n",
              "      <td>0</td>\n",
              "      <td>3</td>\n",
              "      <td>...</td>\n",
              "      <td>0</td>\n",
              "      <td>0</td>\n",
              "      <td>0</td>\n",
              "      <td>0</td>\n",
              "      <td>0</td>\n",
              "      <td>0</td>\n",
              "      <td>0</td>\n",
              "      <td>0</td>\n",
              "      <td>0</td>\n",
              "      <td>0</td>\n",
              "    </tr>\n",
              "    <tr>\n",
              "      <th>Capítulo 2</th>\n",
              "      <td>0</td>\n",
              "      <td>0</td>\n",
              "      <td>0</td>\n",
              "      <td>0</td>\n",
              "      <td>1</td>\n",
              "      <td>0</td>\n",
              "      <td>0</td>\n",
              "      <td>0</td>\n",
              "      <td>0</td>\n",
              "      <td>0</td>\n",
              "      <td>...</td>\n",
              "      <td>0</td>\n",
              "      <td>0</td>\n",
              "      <td>0</td>\n",
              "      <td>0</td>\n",
              "      <td>0</td>\n",
              "      <td>0</td>\n",
              "      <td>0</td>\n",
              "      <td>0</td>\n",
              "      <td>0</td>\n",
              "      <td>0</td>\n",
              "    </tr>\n",
              "    <tr>\n",
              "      <th>Capítulo 3</th>\n",
              "      <td>0</td>\n",
              "      <td>0</td>\n",
              "      <td>0</td>\n",
              "      <td>0</td>\n",
              "      <td>0</td>\n",
              "      <td>0</td>\n",
              "      <td>0</td>\n",
              "      <td>0</td>\n",
              "      <td>0</td>\n",
              "      <td>0</td>\n",
              "      <td>...</td>\n",
              "      <td>0</td>\n",
              "      <td>0</td>\n",
              "      <td>0</td>\n",
              "      <td>0</td>\n",
              "      <td>0</td>\n",
              "      <td>0</td>\n",
              "      <td>0</td>\n",
              "      <td>0</td>\n",
              "      <td>0</td>\n",
              "      <td>0</td>\n",
              "    </tr>\n",
              "    <tr>\n",
              "      <th>Capítulo 4</th>\n",
              "      <td>0</td>\n",
              "      <td>0</td>\n",
              "      <td>0</td>\n",
              "      <td>0</td>\n",
              "      <td>0</td>\n",
              "      <td>1</td>\n",
              "      <td>0</td>\n",
              "      <td>0</td>\n",
              "      <td>0</td>\n",
              "      <td>0</td>\n",
              "      <td>...</td>\n",
              "      <td>0</td>\n",
              "      <td>1</td>\n",
              "      <td>0</td>\n",
              "      <td>0</td>\n",
              "      <td>0</td>\n",
              "      <td>0</td>\n",
              "      <td>0</td>\n",
              "      <td>0</td>\n",
              "      <td>0</td>\n",
              "      <td>0</td>\n",
              "    </tr>\n",
              "    <tr>\n",
              "      <th>Capítulo 5</th>\n",
              "      <td>0</td>\n",
              "      <td>0</td>\n",
              "      <td>0</td>\n",
              "      <td>0</td>\n",
              "      <td>0</td>\n",
              "      <td>0</td>\n",
              "      <td>0</td>\n",
              "      <td>0</td>\n",
              "      <td>0</td>\n",
              "      <td>0</td>\n",
              "      <td>...</td>\n",
              "      <td>0</td>\n",
              "      <td>0</td>\n",
              "      <td>0</td>\n",
              "      <td>1</td>\n",
              "      <td>0</td>\n",
              "      <td>1</td>\n",
              "      <td>2</td>\n",
              "      <td>1</td>\n",
              "      <td>0</td>\n",
              "      <td>0</td>\n",
              "    </tr>\n",
              "    <tr>\n",
              "      <th>Capítulo 6</th>\n",
              "      <td>0</td>\n",
              "      <td>0</td>\n",
              "      <td>0</td>\n",
              "      <td>0</td>\n",
              "      <td>0</td>\n",
              "      <td>1</td>\n",
              "      <td>0</td>\n",
              "      <td>0</td>\n",
              "      <td>0</td>\n",
              "      <td>0</td>\n",
              "      <td>...</td>\n",
              "      <td>0</td>\n",
              "      <td>1</td>\n",
              "      <td>0</td>\n",
              "      <td>0</td>\n",
              "      <td>0</td>\n",
              "      <td>0</td>\n",
              "      <td>1</td>\n",
              "      <td>0</td>\n",
              "      <td>0</td>\n",
              "      <td>0</td>\n",
              "    </tr>\n",
              "    <tr>\n",
              "      <th>Capítulo 7</th>\n",
              "      <td>0</td>\n",
              "      <td>0</td>\n",
              "      <td>0</td>\n",
              "      <td>0</td>\n",
              "      <td>0</td>\n",
              "      <td>0</td>\n",
              "      <td>0</td>\n",
              "      <td>0</td>\n",
              "      <td>0</td>\n",
              "      <td>0</td>\n",
              "      <td>...</td>\n",
              "      <td>0</td>\n",
              "      <td>0</td>\n",
              "      <td>0</td>\n",
              "      <td>0</td>\n",
              "      <td>0</td>\n",
              "      <td>0</td>\n",
              "      <td>0</td>\n",
              "      <td>0</td>\n",
              "      <td>0</td>\n",
              "      <td>0</td>\n",
              "    </tr>\n",
              "    <tr>\n",
              "      <th>Capítulo 8</th>\n",
              "      <td>0</td>\n",
              "      <td>0</td>\n",
              "      <td>0</td>\n",
              "      <td>0</td>\n",
              "      <td>0</td>\n",
              "      <td>0</td>\n",
              "      <td>0</td>\n",
              "      <td>0</td>\n",
              "      <td>0</td>\n",
              "      <td>0</td>\n",
              "      <td>...</td>\n",
              "      <td>0</td>\n",
              "      <td>0</td>\n",
              "      <td>0</td>\n",
              "      <td>0</td>\n",
              "      <td>0</td>\n",
              "      <td>0</td>\n",
              "      <td>0</td>\n",
              "      <td>0</td>\n",
              "      <td>0</td>\n",
              "      <td>0</td>\n",
              "    </tr>\n",
              "    <tr>\n",
              "      <th>Capítulo 9</th>\n",
              "      <td>0</td>\n",
              "      <td>0</td>\n",
              "      <td>0</td>\n",
              "      <td>0</td>\n",
              "      <td>0</td>\n",
              "      <td>0</td>\n",
              "      <td>0</td>\n",
              "      <td>1</td>\n",
              "      <td>1</td>\n",
              "      <td>0</td>\n",
              "      <td>...</td>\n",
              "      <td>1</td>\n",
              "      <td>0</td>\n",
              "      <td>0</td>\n",
              "      <td>0</td>\n",
              "      <td>0</td>\n",
              "      <td>0</td>\n",
              "      <td>0</td>\n",
              "      <td>0</td>\n",
              "      <td>0</td>\n",
              "      <td>0</td>\n",
              "    </tr>\n",
              "    <tr>\n",
              "      <th>Capítulo 10</th>\n",
              "      <td>0</td>\n",
              "      <td>0</td>\n",
              "      <td>0</td>\n",
              "      <td>0</td>\n",
              "      <td>0</td>\n",
              "      <td>1</td>\n",
              "      <td>0</td>\n",
              "      <td>0</td>\n",
              "      <td>0</td>\n",
              "      <td>0</td>\n",
              "      <td>...</td>\n",
              "      <td>0</td>\n",
              "      <td>1</td>\n",
              "      <td>0</td>\n",
              "      <td>0</td>\n",
              "      <td>1</td>\n",
              "      <td>0</td>\n",
              "      <td>0</td>\n",
              "      <td>0</td>\n",
              "      <td>0</td>\n",
              "      <td>0</td>\n",
              "    </tr>\n",
              "    <tr>\n",
              "      <th>Capítulo 11</th>\n",
              "      <td>0</td>\n",
              "      <td>0</td>\n",
              "      <td>0</td>\n",
              "      <td>0</td>\n",
              "      <td>0</td>\n",
              "      <td>0</td>\n",
              "      <td>0</td>\n",
              "      <td>0</td>\n",
              "      <td>0</td>\n",
              "      <td>1</td>\n",
              "      <td>...</td>\n",
              "      <td>0</td>\n",
              "      <td>0</td>\n",
              "      <td>1</td>\n",
              "      <td>0</td>\n",
              "      <td>0</td>\n",
              "      <td>0</td>\n",
              "      <td>0</td>\n",
              "      <td>0</td>\n",
              "      <td>0</td>\n",
              "      <td>1</td>\n",
              "    </tr>\n",
              "  </tbody>\n",
              "</table>\n",
              "<p>12 rows × 632 columns</p>\n",
              "</div>\n",
              "      <button class=\"colab-df-convert\" onclick=\"convertToInteractive('df-d9cdfda5-e563-407e-9bdb-364d81537948')\"\n",
              "              title=\"Convert this dataframe to an interactive table.\"\n",
              "              style=\"display:none;\">\n",
              "        \n",
              "  <svg xmlns=\"http://www.w3.org/2000/svg\" height=\"24px\"viewBox=\"0 0 24 24\"\n",
              "       width=\"24px\">\n",
              "    <path d=\"M0 0h24v24H0V0z\" fill=\"none\"/>\n",
              "    <path d=\"M18.56 5.44l.94 2.06.94-2.06 2.06-.94-2.06-.94-.94-2.06-.94 2.06-2.06.94zm-11 1L8.5 8.5l.94-2.06 2.06-.94-2.06-.94L8.5 2.5l-.94 2.06-2.06.94zm10 10l.94 2.06.94-2.06 2.06-.94-2.06-.94-.94-2.06-.94 2.06-2.06.94z\"/><path d=\"M17.41 7.96l-1.37-1.37c-.4-.4-.92-.59-1.43-.59-.52 0-1.04.2-1.43.59L10.3 9.45l-7.72 7.72c-.78.78-.78 2.05 0 2.83L4 21.41c.39.39.9.59 1.41.59.51 0 1.02-.2 1.41-.59l7.78-7.78 2.81-2.81c.8-.78.8-2.07 0-2.86zM5.41 20L4 18.59l7.72-7.72 1.47 1.35L5.41 20z\"/>\n",
              "  </svg>\n",
              "      </button>\n",
              "      \n",
              "  <style>\n",
              "    .colab-df-container {\n",
              "      display:flex;\n",
              "      flex-wrap:wrap;\n",
              "      gap: 12px;\n",
              "    }\n",
              "\n",
              "    .colab-df-convert {\n",
              "      background-color: #E8F0FE;\n",
              "      border: none;\n",
              "      border-radius: 50%;\n",
              "      cursor: pointer;\n",
              "      display: none;\n",
              "      fill: #1967D2;\n",
              "      height: 32px;\n",
              "      padding: 0 0 0 0;\n",
              "      width: 32px;\n",
              "    }\n",
              "\n",
              "    .colab-df-convert:hover {\n",
              "      background-color: #E2EBFA;\n",
              "      box-shadow: 0px 1px 2px rgba(60, 64, 67, 0.3), 0px 1px 3px 1px rgba(60, 64, 67, 0.15);\n",
              "      fill: #174EA6;\n",
              "    }\n",
              "\n",
              "    [theme=dark] .colab-df-convert {\n",
              "      background-color: #3B4455;\n",
              "      fill: #D2E3FC;\n",
              "    }\n",
              "\n",
              "    [theme=dark] .colab-df-convert:hover {\n",
              "      background-color: #434B5C;\n",
              "      box-shadow: 0px 1px 3px 1px rgba(0, 0, 0, 0.15);\n",
              "      filter: drop-shadow(0px 1px 2px rgba(0, 0, 0, 0.3));\n",
              "      fill: #FFFFFF;\n",
              "    }\n",
              "  </style>\n",
              "\n",
              "      <script>\n",
              "        const buttonEl =\n",
              "          document.querySelector('#df-d9cdfda5-e563-407e-9bdb-364d81537948 button.colab-df-convert');\n",
              "        buttonEl.style.display =\n",
              "          google.colab.kernel.accessAllowed ? 'block' : 'none';\n",
              "\n",
              "        async function convertToInteractive(key) {\n",
              "          const element = document.querySelector('#df-d9cdfda5-e563-407e-9bdb-364d81537948');\n",
              "          const dataTable =\n",
              "            await google.colab.kernel.invokeFunction('convertToInteractive',\n",
              "                                                     [key], {});\n",
              "          if (!dataTable) return;\n",
              "\n",
              "          const docLinkHtml = 'Like what you see? Visit the ' +\n",
              "            '<a target=\"_blank\" href=https://colab.research.google.com/notebooks/data_table.ipynb>data table notebook</a>'\n",
              "            + ' to learn more about interactive tables.';\n",
              "          element.innerHTML = '';\n",
              "          dataTable['output_type'] = 'display_data';\n",
              "          await google.colab.output.renderOutput(dataTable, element);\n",
              "          const docLink = document.createElement('div');\n",
              "          docLink.innerHTML = docLinkHtml;\n",
              "          element.appendChild(docLink);\n",
              "        }\n",
              "      </script>\n",
              "    </div>\n",
              "  </div>\n",
              "  "
            ]
          },
          "metadata": {},
          "execution_count": 46
        }
      ]
    },
    {
      "cell_type": "markdown",
      "metadata": {
        "id": "0vHKkvzFBvtr"
      },
      "source": [
        "#### 6) Faça um algoritmo que leia uma palavra do usuário e em seguida mostre o capítulo mais relevante a pesquisa, juntamente ao correspondente valor de pontuação TF-IDF da palavra buscada no documento."
      ]
    },
    {
      "cell_type": "code",
      "metadata": {
        "id": "XRvxS8HkCWKC"
      },
      "source": [
        ""
      ],
      "execution_count": null,
      "outputs": []
    },
    {
      "cell_type": "code",
      "source": [
        "from nltk.corpus import stopwords\n",
        "from sklearn.feature_extraction.text import TfidfVectorizer\n",
        "import numpy as np"
      ],
      "metadata": {
        "id": "F2usETgkV88O"
      },
      "execution_count": 47,
      "outputs": []
    },
    {
      "cell_type": "code",
      "source": [
        "nltk.download('stopwords')\n",
        "STOPWORDS = stopwords.words(\"portuguese\")"
      ],
      "metadata": {
        "colab": {
          "base_uri": "https://localhost:8080/"
        },
        "id": "kCdZQ4PLYraF",
        "outputId": "c8250dcf-2e9a-448f-fbb7-61295df8ee2e"
      },
      "execution_count": 48,
      "outputs": [
        {
          "output_type": "stream",
          "name": "stdout",
          "text": [
            "[nltk_data] Downloading package stopwords to /root/nltk_data...\n",
            "[nltk_data]   Package stopwords is already up-to-date!\n"
          ]
        }
      ]
    },
    {
      "cell_type": "code",
      "source": [
        "def remove_stop_works(value):\n",
        "   text_tokens = word_tokenize(value)\n",
        "   tokens_without_sw = [word for word in text_tokens if not word in stopwords.words()]\n",
        "   return \" \".join(tokens_without_sw)\n",
        "\n",
        "def vetores_correspondente_TfidfVectorizer(value):\n",
        "   documentos = value\n",
        "   Tfidf = TfidfVectorizer(lowercase=False)\n",
        "   matrix = Tfidf.fit_transform(documentos)\n",
        "   tokens = Tfidf.get_feature_names()\n",
        "   return geradf(matrix, tokens)"
      ],
      "metadata": {
        "id": "TeMSgphJcvAJ"
      },
      "execution_count": 49,
      "outputs": []
    },
    {
      "cell_type": "code",
      "source": [
        "df_relevante_td_idf = vetores_correspondente_TfidfVectorizer(df['texto'].apply(remove_stop_works).values.tolist())"
      ],
      "metadata": {
        "colab": {
          "base_uri": "https://localhost:8080/"
        },
        "id": "rv94o5ngeK0-",
        "outputId": "3b836636-5222-4d8f-fc31-b2ed247b236a"
      },
      "execution_count": 50,
      "outputs": [
        {
          "output_type": "stream",
          "name": "stderr",
          "text": [
            "/usr/local/lib/python3.7/dist-packages/sklearn/utils/deprecation.py:87: FutureWarning: Function get_feature_names is deprecated; get_feature_names is deprecated in 1.0 and will be removed in 1.2. Please use get_feature_names_out instead.\n",
            "  warnings.warn(msg, category=FutureWarning)\n"
          ]
        }
      ]
    },
    {
      "cell_type": "code",
      "source": [
        "palavra = input(\"Buscar por: \")"
      ],
      "metadata": {
        "colab": {
          "base_uri": "https://localhost:8080/"
        },
        "id": "Qt4JfwrYeYef",
        "outputId": "887d5743-4717-4a1d-b4bf-1fb41f0475d5"
      },
      "execution_count": 51,
      "outputs": [
        {
          "name": "stdout",
          "output_type": "stream",
          "text": [
            "Buscar por: Anel\n"
          ]
        }
      ]
    },
    {
      "cell_type": "code",
      "source": [
        "df_relevante_td_idf.query(f\"{palavra} > 0\")[palavra]"
      ],
      "metadata": {
        "colab": {
          "base_uri": "https://localhost:8080/"
        },
        "id": "wx9TD8S8euX1",
        "outputId": "dedae218-83e0-4b1b-b919-843dc4a81e3f"
      },
      "execution_count": 52,
      "outputs": [
        {
          "output_type": "execute_result",
          "data": {
            "text/plain": [
              "Capítulo 4     0.104925\n",
              "Capítulo 6     0.110000\n",
              "Capítulo 10    0.078547\n",
              "Name: Anel, dtype: float64"
            ]
          },
          "metadata": {},
          "execution_count": 52
        }
      ]
    },
    {
      "cell_type": "code",
      "source": [
        ""
      ],
      "metadata": {
        "id": "7I7xS8qIexdJ"
      },
      "execution_count": null,
      "outputs": []
    }
  ]
}